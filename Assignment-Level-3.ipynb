{
 "cells": [
  {
   "cell_type": "code",
   "execution_count": 13,
   "metadata": {},
   "outputs": [
    {
     "name": "stdout",
     "output_type": "stream",
     "text": [
      "Enter a number to check : 22\n",
      "Number is not divisible by 5\n"
     ]
    }
   ],
   "source": [
    "value = int(input(\"Value :\"))\n",
    "if(value == 10):\n",
    "    print(\"Correct\")\n",
    "else:\n",
    "    print(\"In-Correct\")\n",
    "\n",
    "# ------------------>>\n",
    "\n",
    "password = input(\"Enter the password :\")\n",
    "if(password == \"HOPE@123\"):\n",
    "    print(\"Your password is correct\")\n",
    "else:\n",
    "    print(\"Your password is In-Correct\")\n",
    "\n",
    "# ------------------>>\n",
    "\n",
    "age = int(input(\"Age :\"))\n",
    "print(\"Age :\",age)\n",
    "if(age <=19 ):\n",
    "    print(\"Minor\")\n",
    "elif(age <= 39):\n",
    "    print(\"Adult\")\n",
    "elif(age <= 59):\n",
    "    print(\"Citizen\")\n",
    "else:\n",
    "    print(\"Senior Citizen\")\n",
    "\n",
    "# ------------------->>\n",
    "\n",
    "check = int(input(\"Enter any number :\"))\n",
    "print(\"Enter any number :\",check)\n",
    "if(check >= 0):\n",
    "    print(\"It is positive\")\n",
    "else:\n",
    "    print(\"It is negative\")\n",
    "\n",
    "# ------------------->>\n",
    "\n",
    "numDiv = int(input(\"Enter a number to check :\"))\n",
    "print(\"Enter a number to check :\",numDiv)\n",
    "if((numDiv % 5) == 0):\n",
    "        print(\"Number is divisible by 5\")\n",
    "else:\n",
    "        print(\"Number is not divisible by 5\")\n",
    "\n",
    "\n",
    "\n",
    "\n",
    "\n",
    "\n",
    "\n"
   ]
  }
 ],
 "metadata": {
  "kernelspec": {
   "display_name": "Python 3",
   "language": "python",
   "name": "python3"
  },
  "language_info": {
   "codemirror_mode": {
    "name": "ipython",
    "version": 3
   },
   "file_extension": ".py",
   "mimetype": "text/x-python",
   "name": "python",
   "nbconvert_exporter": "python",
   "pygments_lexer": "ipython3",
   "version": "3.9.6"
  }
 },
 "nbformat": 4,
 "nbformat_minor": 2
}

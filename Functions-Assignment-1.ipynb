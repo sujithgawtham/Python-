{
 "cells": [
  {
   "cell_type": "code",
   "execution_count": 13,
   "metadata": {},
   "outputs": [
    {
     "name": "stdout",
     "output_type": "stream",
     "text": [
      "Height : 32\n",
      "Breadth : 34\n",
      "Area of Triangle : 544.0\n",
      "Height1 : 2\n",
      "Height2 : 4\n",
      "Breadth : 4\n",
      "Perimeter formula : 10\n"
     ]
    },
    {
     "data": {
      "text/plain": [
       "(544.0, 10)"
      ]
     },
     "execution_count": 13,
     "metadata": {},
     "output_type": "execute_result"
    }
   ],
   "source": [
    "# Subfields in AI\n",
    "\n",
    "def subFields():\n",
    "    list = [\"Machine Learnng\", \"Neural Network\",\n",
    "           \"Vision\", \"Robotics\",\n",
    "           \"Speech Processing\", \"Natural Language Processing\"]\n",
    "    print(\"Sub-fields in AI are :\")\n",
    "    for topics in list:\n",
    "        print(topics)\n",
    "\n",
    "subFields()\n",
    "\n",
    "# Checking odd or even\n",
    "\n",
    "def check():\n",
    "    number = int(input(\"Enter a number:\"))\n",
    "    print(\"Enter a number :\",number)\n",
    "    if(number % 2) == 0:\n",
    "        print(\"Even Number\")\n",
    "        result = \"It is an Even Number\"\n",
    "    else:\n",
    "        print(\"Odd Number\")\n",
    "        result = \"it is Odd Number\"\n",
    "    return result\n",
    "\n",
    "numCheck = check()\n",
    "\n",
    "# Checking Elegibility for marriage\n",
    "\n",
    "def checkEligible():\n",
    "    gender = input(\"Enter your Gender\")\n",
    "    print(\"Enter your Gender :\",gender)\n",
    "    age = int(input(\"Enter your age \"))\n",
    "    print(\"Enter your age\",age)\n",
    "    if(gender == \"Male\" and age <= 20):\n",
    "        print(\"Not Eligible\")\n",
    "        eligible = \"Not Eligible\"\n",
    "    else:\n",
    "        print(\"Eligible\")\n",
    "        eligible = \"Eligible\"\n",
    "\n",
    "marriage = checkEligible()\n",
    "\n",
    "# Percentage of 10th Mark\n",
    "\n",
    "def marksTotal():\n",
    "    sub1 = int(input(\"Subject1\"))\n",
    "    print(\"Subject1 =\",sub1)\n",
    "    sub2 = int(input(\"Subject2\"))\n",
    "    print(\"Subject1 =\",sub2)\n",
    "    sub3 = int(input(\"Subject3\"))\n",
    "    print(\"Subject1 =\",sub3)\n",
    "    sub4 = int(input(\"Subject4\"))\n",
    "    print(\"Subject1 =\",sub4)\n",
    "    sub5 = int(input(\"Subject5\"))\n",
    "    print(\"Subject1 =\",sub5)\n",
    "    total = sub1 + sub2 + sub3 + sub4 + sub5\n",
    "    print(\"total : \",total)\n",
    "    resultTotal = total\n",
    "    percentage = (total / 500.0) * 100\n",
    "    print(\"Percentage :\",percentage)\n",
    "    resultPercent = percentage\n",
    "    return resultTotal,resultPercent\n",
    "    \n",
    "scoreDetails = marksTotal()\n",
    "\n",
    "# Triangle\n",
    "\n",
    "def triangle(Height,Breadth,Height1,Height2,Breadth1):\n",
    "    area = (Height * Breadth) / 2\n",
    "    print(\"Height :\",Height)\n",
    "    print(\"Breadth :\",Breadth)\n",
    "    print( \"Area of Triangle :\",area)\n",
    "    perimeter = (Height1 + Height2 + Breadth1)\n",
    "    print(\"Height1 :\",Height1)\n",
    "    print(\"Height2 :\",Height2)\n",
    "    print(\"Breadth :\",Breadth1)\n",
    "    print(\"Perimeter formula :\",perimeter)\n",
    "    return area,perimeter\n",
    "\n",
    "triangle(32,34,2,4,4)\n",
    "\n",
    "\n",
    "\n",
    "    \n",
    "\n",
    "\n",
    "\n"
   ]
  }
 ],
 "metadata": {
  "kernelspec": {
   "display_name": "Python 3",
   "language": "python",
   "name": "python3"
  },
  "language_info": {
   "codemirror_mode": {
    "name": "ipython",
    "version": 3
   },
   "file_extension": ".py",
   "mimetype": "text/x-python",
   "name": "python",
   "nbconvert_exporter": "python",
   "pygments_lexer": "ipython3",
   "version": "3.9.6"
  }
 },
 "nbformat": 4,
 "nbformat_minor": 2
}

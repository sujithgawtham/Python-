{
 "cells": [
  {
   "cell_type": "code",
   "execution_count": 12,
   "metadata": {},
   "outputs": [
    {
     "name": "stdout",
     "output_type": "stream",
     "text": [
      "Welcome to Assignment-1\n",
      "40\n",
      "Enter the BMI index : 34\n",
      "Obese\n"
     ]
    }
   ],
   "source": [
    "print(\"Welcome to Assignment-1\")\n",
    "\n",
    "# ---------------------------->>>\n",
    "\n",
    "Num1 = 10\n",
    "Num2 = 30\n",
    "add = Num1 + Num2\n",
    "print(add)\n",
    "\n",
    "#------------------------------>>\n",
    "\n",
    "BMI = int(input(\"Enter the BMI index : \"))\n",
    "print(\"Enter the BMI index :\",BMI)\n",
    "if (BMI < 18.5):\n",
    "    print(\"UnderWeight\")\n",
    "elif(BMI >= 18.5 and BMI<= 24.9):\n",
    "    print(\"Normal\")\n",
    "elif(BMI >= 25 and BMI <= 29.9):\n",
    "    print(\"OverWeight\")\n",
    "else:\n",
    "    print(\"Obese\")\n"
   ]
  }
 ],
 "metadata": {
  "kernelspec": {
   "display_name": "Python 3",
   "language": "python",
   "name": "python3"
  },
  "language_info": {
   "codemirror_mode": {
    "name": "ipython",
    "version": 3
   },
   "file_extension": ".py",
   "mimetype": "text/x-python",
   "name": "python",
   "nbconvert_exporter": "python",
   "pygments_lexer": "ipython3",
   "version": "3.9.6"
  }
 },
 "nbformat": 4,
 "nbformat_minor": 2
}

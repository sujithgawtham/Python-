{
 "cells": [
  {
   "cell_type": "code",
   "execution_count": 14,
   "metadata": {},
   "outputs": [
    {
     "name": "stdout",
     "output_type": "stream",
     "text": [
      "Number of items in the list is : 7\n",
      "Name - Sujith\n",
      "Age - 29\n",
      "Profession - Developer\n",
      "(1, 'Welcome', 2, 'Hope')\n",
      "((0, 1, 2, 3), ('python', 'HOPE'))\n",
      "19 is odd\n",
      "25 is odd\n",
      "1 is odd\n",
      "20 is even\n",
      "10 is even\n",
      "16 is even\n",
      "276 is even\n",
      "188 is even\n"
     ]
    }
   ],
   "source": [
    "for num in range(0,20):\n",
    "    print(num)\n",
    "\n",
    "# # ------------------>>\n",
    "\n",
    "for number in range(10,20):\n",
    "    print(number)\n",
    "\n",
    "# ------------------>>\n",
    "\n",
    "list = [10,20,14,55,43,87,78]\n",
    "length = len(list)\n",
    "print(\"Number of items in the list is :\",length)\n",
    "\n",
    "# ------------------>>\n",
    "\n",
    "name = \"Artificial Intelligence\"\n",
    "for letters in name:\n",
    "    print(letters)\n",
    "# ------------------>>\n",
    "\n",
    "print(\"Name - Sujith\")\n",
    "print(\"Age - 29\")\n",
    "print(\"Profession - Developer\")\n",
    "\n",
    "# ------------------>>\n",
    "\n",
    "tuple1 = (1 , 'Welcome', 2, 'Hope')\n",
    "print(tuple1)\n",
    "\n",
    "# ------------------>>\n",
    "\n",
    "tuple2 = ((0, 1, 2, 3), ('python', 'HOPE'))\n",
    "print(tuple2)\n",
    "\n",
    "# ------------------>>\n",
    "\n",
    "numList = [20,10,16,19,25,1,276,188]\n",
    "for numbers in numList:\n",
    "    if((numbers % 2) != 0):\n",
    "        print(numbers ,\"is odd\")\n",
    "    \n",
    "# ------------------->>\n",
    "\n",
    "numList1 = [20,10,16,19,25,1,276,188]\n",
    "for numbers in numList:\n",
    "    if((numbers % 2) == 0):\n",
    "        print(numbers ,\"is even\")"
   ]
  }
 ],
 "metadata": {
  "kernelspec": {
   "display_name": "Python 3",
   "language": "python",
   "name": "python3"
  },
  "language_info": {
   "codemirror_mode": {
    "name": "ipython",
    "version": 3
   },
   "file_extension": ".py",
   "mimetype": "text/x-python",
   "name": "python",
   "nbconvert_exporter": "python",
   "pygments_lexer": "ipython3",
   "version": "3.9.6"
  }
 },
 "nbformat": 4,
 "nbformat_minor": 2
}

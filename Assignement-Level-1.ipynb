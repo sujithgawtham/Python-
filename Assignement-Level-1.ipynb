{
 "cells": [
  {
   "cell_type": "code",
   "execution_count": 6,
   "metadata": {},
   "outputs": [
    {
     "name": "stdout",
     "output_type": "stream",
     "text": [
      "HOPE AI\n",
      "Sub = 9\n",
      "Add = 77\n",
      "Multiply = 6111\n",
      "Division = 2.4516129032258065\n",
      "Floor Division = 2\n",
      "Mdulus = 14\n",
      "Power of number = 256\n"
     ]
    }
   ],
   "source": [
    "print(\"HOPE AI\")\n",
    "\n",
    "# ------------------->>\n",
    "\n",
    "name = input(\"Enter the Institute name :\")\n",
    "print(\"Enter the institue name :\",name)\n",
    "\n",
    "# ------------------->>\n",
    "\n",
    "name1 = input(\"Enter your name :\")\n",
    "age = input(\"Enter your age :\")\n",
    "schoolName = input(\"Enter your school name :\")\n",
    "degree = input(\"Enter your degree :\")\n",
    "print(\"Enter your name :\",name1)\n",
    "print(\"Enter your age :\",age)\n",
    "print(\"Enter your school name :\",schoolName)\n",
    "print(\"Enter your degree :\",degree)\n",
    "\n",
    "# ------------------->>\n",
    "\n",
    "a = 43\n",
    "b = 34\n",
    "Sub = a - b\n",
    "print(\"Sub =\",Sub)\n",
    "\n",
    "# ------------------->>\n",
    "\n",
    "a1 = 43\n",
    "b1 = 34\n",
    "add = a1 + b1\n",
    "print(\"Add =\",add)\n",
    "\n",
    "# -------------------->>\n",
    "\n",
    "a2 = 63\n",
    "b2 = 97\n",
    "Multiply = a2 * b2\n",
    "print(\"Multiply =\",Multiply)\n",
    "\n",
    "# -------------------->>\n",
    "\n",
    "a3 = 76\n",
    "b3 = 31\n",
    "Division = a3 / b3\n",
    "print(\"Division =\",Division)\n",
    "\n",
    "# -------------------->>\n",
    "\n",
    "a4 = 76\n",
    "b4 = 31\n",
    "floorDivision = a4 // b4\n",
    "print(\"Floor Division =\",floorDivision)\n",
    "\n",
    "# ------------------->>\n",
    "\n",
    "a5 = 76\n",
    "b5 = 31\n",
    "Modulus = a5 % b5\n",
    "print(\"Mdulus =\",Modulus)\n",
    "\n",
    "# ------------------->>\n",
    "\n",
    "a6 = 4\n",
    "b6 = 4\n",
    "Power = a6 ** b6\n",
    "print(\"Power of number =\",Power)\n"
   ]
  }
 ],
 "metadata": {
  "kernelspec": {
   "display_name": "Python 3",
   "language": "python",
   "name": "python3"
  },
  "language_info": {
   "codemirror_mode": {
    "name": "ipython",
    "version": 3
   },
   "file_extension": ".py",
   "mimetype": "text/x-python",
   "name": "python",
   "nbconvert_exporter": "python",
   "pygments_lexer": "ipython3",
   "version": "3.9.6"
  }
 },
 "nbformat": 4,
 "nbformat_minor": 2
}
